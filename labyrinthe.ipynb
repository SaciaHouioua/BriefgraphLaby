{
 "cells": [
  {
   "cell_type": "code",
   "execution_count": 15,
   "metadata": {},
   "outputs": [],
   "source": [
    "import random\n",
    "import matplotlib.pyplot as plt\n",
    "import networkx as nx\n",
    "import matplotlib.pyplot as plt\n"
   ]
  },
  {
   "cell_type": "code",
   "execution_count": 16,
   "metadata": {},
   "outputs": [],
   "source": [
    "# fonction parcours en profondeur\n",
    "\n",
    "def dfs(s) :\n",
    "    P,Q={s :None},[s]\n",
    "    while Q :\n",
    "        u = Q[-1]\n",
    "        R=[y for y in voisinage(u) if y not in P]\n",
    "       \n",
    "        if R :\n",
    "            v=random.choice(R)\n",
    "            P[v]=u\n",
    "            Q.append(v)\n",
    "        else :\n",
    "            Q.pop()\n",
    "    return P"
   ]
  },
  {
   "cell_type": "code",
   "execution_count": 17,
   "metadata": {},
   "outputs": [],
   "source": [
    "def voisinage(couple):\n",
    "    \"\"\"\n",
    "    Renvoie la liste des cellules voisines\n",
    "    de la cellule (ligne, colonne) = couple dans la grille.\n",
    "    \"\"\"\n",
    "    listeVoisins = []\n",
    "    \n",
    "    i, j = couple[0], couple[1]\n",
    "    for d in (-1, 1):\n",
    "        if -1 < i+d < HAUTEUR: listeVoisins.append( (i+d, j) )\n",
    "        if -1 < j+d < LARGEUR: listeVoisins.append( (i, j+d) )\n",
    "        \n",
    "    #print(f\"fct voisinage : i: {i} j: {j} d: {d} i+d:{i+d} j+d:{j+d}\")\n",
    "    \n",
    "    return listeVoisins\n",
    "\n"
   ]
  },
  {
   "cell_type": "code",
   "execution_count": 18,
   "metadata": {},
   "outputs": [],
   "source": [
    "# Trouver un chemin dans le labyrinthe\n",
    "def find_path(graph, start, end, path=[]): \n",
    "    path = path + [start] \n",
    "    if start == end: \n",
    "        return path \n",
    "    for node in graph[start]: \n",
    "        if node not in path: \n",
    "            newpath = find_path(graph, node, end, path) \n",
    "            if newpath: \n",
    "                return newpath "
   ]
  },
  {
   "cell_type": "code",
   "execution_count": 19,
   "metadata": {},
   "outputs": [],
   "source": [
    "# Imprimer le labyrinthe\n",
    "def printLay (labyrinthe):\n",
    "    plt.imshow(labyrinthe)\n",
    "     # on cache les graduations:\n",
    "    plt.xticks([])\n",
    "    plt.yticks([])\n",
    "     # on visualise le résultat:\n",
    "    plt.show()\n",
    "     #print(labyrinthe)\n",
    "\n",
    "# une fonction qui permet de convertir le parcous récupéré par \n",
    "\n",
    "def convDic (d):\n",
    "    dic_new = {}\n",
    "    for i in d.keys():\n",
    "        dic_new[i] = [d[i]]\n",
    "        if d[i] in dic_new.keys():\n",
    "            dic_new[d.get(i)].append(i)\n",
    "    for i in d.keys():\n",
    "        dic_new[i] = {node : 1 for node in dic_new[i] if node != None }\n",
    "    return dic_new\n",
    "\n",
    "# une fonction qui permcolorier le chemin\n",
    "def ColerPath (parcours, path): \n",
    "    labyrinthe = [ [0 for j in range(2*LARGEUR+1)] for i in range(2*HAUTEUR+1)] \n",
    "    \n",
    "    #print(parcours)\n",
    "    for i,j in parcours:\n",
    "        labyrinthe[2*i+1][2*j+1] = 3\n",
    "        if (i,j) !=  (0,0):\n",
    "            k,l = parcours[(i,j)]\n",
    "            labyrinthe[2*k+1][2*l+1] = 3\n",
    "            labyrinthe[i+k+1][j+l+1] = 3\n",
    "            \n",
    "    for (i,j) in path:\n",
    "        labyrinthe[2*i+1][2*j+1] = 5\n",
    "        #if (i,j) in path: \n",
    "        if (i,j) !=  (0,0):\n",
    "            k,l = parcours[(i,j)]\n",
    "            labyrinthe[2*k+1][2*l+1] = 5\n",
    "            labyrinthe[i+k+1][j+l+1] = 5\n",
    "    labyrinthe[1][0] = 2\n",
    "    labyrinthe[2*HAUTEUR-1][2*LARGEUR] = 5\n",
    "    return labyrinthe\n"
   ]
  },
  {
   "cell_type": "code",
   "execution_count": 21,
   "metadata": {},
   "outputs": [],
   "source": [
    "#Visualisation du graphe avec networkx\n",
    "def visNx (dic):\n",
    "    g = nx.Graph()\n",
    "    for i, j in dic.items():\n",
    "        for k in j:\n",
    "            g.add_edge( i,k )\n",
    "    f, ax = plt.subplots(figsize=(10,5))\n",
    "    nx.draw(g, ax = ax, with_labels=True, font_weight='bold')"
   ]
  },
  {
   "cell_type": "code",
   "execution_count": 31,
   "metadata": {},
   "outputs": [
    {
     "name": "stdout",
     "output_type": "stream",
     "text": [
      "Visualisation labyrinthe  Hauteur: 5 Largeur: 2\n"
     ]
    },
    {
     "data": {
      "image/png": "[encoded data removed]",
      "text/plain": [
       "<Figure size 432x288 with 1 Axes>"
      ]
     },
     "metadata": {},
     "output_type": "display_data"
    },
    {
     "data": {
      "image/png": "[encoded data removed]",
      "text/plain": [
       "<Figure size 720x360 with 1 Axes>"
      ]
     },
     "metadata": {},
     "output_type": "display_data"
    }
   ],
   "source": [
    "# Dimensions de la grille:\n",
    "LARGEUR = 5\n",
    "HAUTEUR = 2\n",
    "\n",
    "print(f\"Visualisation labyrinthe  Hauteur: {LARGEUR} Largeur: {HAUTEUR}\")\n",
    "dic = {(0,0) : None}\n",
    "\n",
    "parcours = dfs((0,0))\n",
    "\n",
    "dic = convDic (parcours)\n",
    "\n",
    "path=find_path(dic, (0, 0), (HAUTEUR-1,LARGEUR-1))\n",
    "\n",
    "labyrinthe = ColerPath (parcours, path)\n",
    "\n",
    "printLay (labyrinthe)\n",
    "\n",
    "visNx (dic)\n",
    "\n"
   ]
  },
  {
   "cell_type": "code",
   "execution_count": 32,
   "metadata": {},
   "outputs": [],
   "source": [
    "# function to generate all possible paths \n",
    "def find_all_paths(graph, start, end, path =[]): \n",
    "    path = path + [start] \n",
    "    if start == end: \n",
    "        return [path] \n",
    "    paths = [] \n",
    "    \n",
    "    for node in graph[start]: \n",
    "        if node not in path: \n",
    "            newpaths = find_all_paths(graph, node, end, path) \n",
    "            for newpath in newpaths: \n",
    "                paths.append(newpath) \n",
    "            return paths \n",
    "    \n"
   ]
  },
  {
   "cell_type": "code",
   "execution_count": 67,
   "metadata": {},
   "outputs": [],
   "source": [
    "dic = {(0, 0): {(0, 1): 1},\n",
    " (0, 1): {(0, 0): 1, (1, 1): 1},\n",
    " (1, 1): {(0, 1): 1, (1, 2): 1, (1, 0): 1},\n",
    " (1, 2): {(1, 1): 1, (0, 2): 1, (1, 0) : 1},\n",
    " (0, 2): {(1, 2): 1, (0, 3): 1},\n",
    " (0, 3): {(0, 2): 1, (0, 4): 1},\n",
    " (0, 4): {(0, 3): 1, (1, 4): 1},\n",
    " (1, 4): {(0, 4): 1, (1, 3): 1},\n",
    " (1, 3): {(1, 4): 1},\n",
    " (1, 0): {(1, 1): 1}}"
   ]
  },
  {
   "cell_type": "code",
   "execution_count": 64,
   "metadata": {},
   "outputs": [
    {
     "data": {
      "text/plain": [
       "[[(0, 0), (0, 1), (1, 1), (1, 2), (0, 2), (0, 3)],\n",
       " [(0, 0), (0, 1), (1, 1), (1, 0), (1, 2), (0, 2), (0, 3)]]"
      ]
     },
     "execution_count": 64,
     "metadata": {},
     "output_type": "execute_result"
    }
   ],
   "source": [
    "paths"
   ]
  },
  {
   "cell_type": "code",
   "execution_count": 68,
   "metadata": {},
   "outputs": [
    {
     "data": {
      "image/png": "[encoded data removed]",
      "text/plain": [
       "<Figure size 720x360 with 1 Axes>"
      ]
     },
     "metadata": {},
     "output_type": "display_data"
    }
   ],
   "source": [
    "visNx (dic)"
   ]
  },
  {
   "cell_type": "code",
   "execution_count": 66,
   "metadata": {},
   "outputs": [
    {
     "name": "stdout",
     "output_type": "stream",
     "text": [
      "[[(0, 0), (0, 1), (1, 1), (1, 2), (0, 2), (0, 3)]]\n"
     ]
    }
   ],
   "source": [
    "print(find_all_paths(dic, (0, 0), (0,3)))"
   ]
  },
  {
   "cell_type": "code",
   "execution_count": null,
   "metadata": {},
   "outputs": [],
   "source": []
  }
 ],
 "metadata": {
  "kernelspec": {
   "display_name": "Python 3",
   "language": "python",
   "name": "python3"
  },
  "language_info": {
   "codemirror_mode": {
    "name": "ipython",
    "version": 3
   },
   "file_extension": ".py",
   "mimetype": "text/x-python",
   "name": "python",
   "nbconvert_exporter": "python",
   "pygments_lexer": "ipython3",
   "version": "3.7.9"
  }
 },
 "nbformat": 4,
 "nbformat_minor": 4
}
