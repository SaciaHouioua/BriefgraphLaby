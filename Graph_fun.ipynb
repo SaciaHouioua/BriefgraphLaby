{
 "cells": [
  {
   "cell_type": "markdown",
   "metadata": {},
   "source": [
    "\n",
    "1. Suivant le graphe (Graphe_) définit précédemment, écrire les fonctions permettant de parcourir tous les nœuds de ce graphe, décrire ce que fait réellement votre fonction.\n",
    "\n",
    "2.Trouver 2 manière de parcourir un graphe de A à G. Quelle est la longueur de votre parcours\n",
    "\n",
    "3. Proposer une fonction qui permet de passer en argument \"de quel point à quel point\" on souhaite aller et une fonction qui permet d'afficher par quel point l'algorithme est allé, et quelle distance le parcours de l'algorithme représente.\n",
    "\n",
    "3. Un algorithme appelé \"Dijkstra\" permet de résoudre ce type de problème dans les graphes pondérés connexes et à pondérations positives. Implémenter cet algorithme.\n"
   ]
  },
  {
   "cell_type": "code",
   "execution_count": 3,
   "metadata": {},
   "outputs": [
    {
     "data": {
      "text/plain": [
       "{'A': {'B': 2, 'C': 1},\n",
       " 'B': {'A': 2, 'C': 2, 'D': 1, 'E': 3},\n",
       " 'C': {'A': 1, 'B': 2, 'D': 4, 'E': 3, 'F': 5},\n",
       " 'D': {'B': 1, 'C': 4, 'E': 3, 'F': 6, 'G': 5},\n",
       " 'E': {'B': 3, 'C': 3, 'D': 3, 'F': 1},\n",
       " 'F': {'C': 5, 'D': 6, 'E': 1, 'G': 2},\n",
       " 'G': {'D': 5, 'F': 2}}"
      ]
     },
     "execution_count": 3,
     "metadata": {},
     "output_type": "execute_result"
    }
   ],
   "source": [
    "Graphe_ = { }\n",
    "Graphe_['A']= {'B': 2,'C':1}\n",
    "Graphe_['B']= {'A': 2,'C':2,'D': 1,'E':3}\n",
    "Graphe_['C']= {'A': 1,'B':2, 'D': 4,'E':3 , 'F':5}\n",
    "Graphe_['D']= {'B': 1 , 'C': 4,'E':3 , 'F':6 , 'G':5}\n",
    "Graphe_['E']= {'B': 3 , 'C': 3,'D':3 , 'F': 1}\n",
    "Graphe_['F']= {'C': 5 , 'D': 6,'E':1 , 'G': 2}\n",
    "Graphe_['G']= {'D': 5,'F': 2 }\n",
    "Graphe_\n"
   ]
  },
  {
   "cell_type": "markdown",
   "metadata": {},
   "source": [
    "1. Suivant le graphe (Graphe_) définit précédemment, écrire les fonctions permettant de parcourir tous les nœuds de ce graphe, décrire ce que fait réellement votre fonction."
   ]
  },
  {
   "cell_type": "code",
   "execution_count": 4,
   "metadata": {
    "scrolled": true
   },
   "outputs": [
    {
     "name": "stdout",
     "output_type": "stream",
     "text": [
      "A : {'B': 2, 'C': 1}\n",
      "B : {'A': 2, 'C': 2, 'D': 1, 'E': 3}\n",
      "C : {'A': 1, 'B': 2, 'D': 4, 'E': 3, 'F': 5}\n",
      "D : {'B': 1, 'C': 4, 'E': 3, 'F': 6, 'G': 5}\n",
      "E : {'B': 3, 'C': 3, 'D': 3, 'F': 1}\n",
      "F : {'C': 5, 'D': 6, 'E': 1, 'G': 2}\n",
      "G : {'D': 5, 'F': 2}\n"
     ]
    }
   ],
   "source": [
    "# parcourir les noeuds et afficher les values \n",
    "def ParcourirG(G):\n",
    "    for noeud in G.keys():\n",
    "        print (noeud , \":\", G[noeud] )\n",
    "    \n",
    "ParcourirG(Graphe_)   "
   ]
  },
  {
   "cell_type": "markdown",
   "metadata": {},
   "source": [
    "2.Trouver 2 manière de parcourir un graphe de A à G. Quelle est la longueur de votre parcours\n"
   ]
  },
  {
   "cell_type": "code",
   "execution_count": 21,
   "metadata": {
    "scrolled": true
   },
   "outputs": [
    {
     "name": "stdout",
     "output_type": "stream",
     "text": [
      "G\n",
      "D\n",
      "B\n",
      "A\n",
      "C\n",
      "E\n",
      "F\n"
     ]
    }
   ],
   "source": [
    "# exploration en profondeur \n",
    "\n",
    "s_explore = []\n",
    "\n",
    "def dfs_rec (graphe, s):\n",
    "  # 1eme :  explorer le sommet 's' \n",
    "    if s not in s_explore:\n",
    "        s_explore.append(s)\n",
    "        print(s)\n",
    "   #2eme : explorer ses voisins    \n",
    "    for voisin in graphe[s]:\n",
    "        if voisin not in s_explore:\n",
    "            # 3 : explorer les fils\n",
    "            dfs_rec(graphe, voisin)\n",
    "    #print(\"back\") #garder une trace des retours en arrières\n",
    "        \n",
    "dfs_rec (Graphe_, 'G')"
   ]
  },
  {
   "cell_type": "code",
   "execution_count": 5,
   "metadata": {},
   "outputs": [],
   "source": [
    "# BFS d'une manière interactive\n",
    "from collections import deque\n",
    "\n",
    "def iterative_bfs(graph, start):\n",
    "\n",
    "    visited = []\n",
    "    # céer une file  \n",
    "    queue = deque()\n",
    "    queue.append(start)\n",
    "\n",
    "    while queue:  # tant que la file est non vide\n",
    "        node = queue.popleft() # s = f.defiler()\n",
    "        if node not in visited:\n",
    "            visited.append(node)\n",
    "            unvisited = [n for n in graph[node] if n not in visited]\n",
    "            queue.extend(unvisited)\n",
    "\n",
    "    return visited"
   ]
  },
  {
   "cell_type": "markdown",
   "metadata": {},
   "source": [
    "ParcoursLargeur(Graphe G, Sommet s):\n",
    "       f = CreerFile();\n",
    "       f.enfiler(s);\n",
    "       marquer(s);\n",
    "       tant que la file est non vide\n",
    "                s = f.defiler();\n",
    "                afficher(s);\n",
    "                pour tout voisin t de s dans G\n",
    "                         si t non marqué\n",
    "                                 f.enfiler(t);\n",
    "                                 marquer(t);\n"
   ]
  },
  {
   "cell_type": "code",
   "execution_count": 241,
   "metadata": {},
   "outputs": [
    {
     "data": {
      "text/plain": [
       "['A', 'B', 'C', 'D', 'E', 'F', 'G']"
      ]
     },
     "execution_count": 241,
     "metadata": {},
     "output_type": "execute_result"
    }
   ],
   "source": [
    "iterative_bfs(Graphe_ ,'A')"
   ]
  },
  {
   "cell_type": "code",
   "execution_count": 6,
   "metadata": {},
   "outputs": [
    {
     "data": {
      "text/plain": [
       "['B', 'A', 'C', 'D', 'E', 'F', 'G']"
      ]
     },
     "execution_count": 6,
     "metadata": {},
     "output_type": "execute_result"
    }
   ],
   "source": [
    "#2eme recursive_dfs\n",
    "def recursive_dfs(graph, start, path=[]):\n",
    "    \n",
    "#recursive depth first search from start\n",
    "    path=path+[start]\n",
    "    for node in graph[start]:\n",
    "        if not node in path:\n",
    "            path=recursive_dfs(graph, node, path)\n",
    "    return path\n",
    "recursive_dfs(Graphe_,'B', path=[])"
   ]
  },
  {
   "cell_type": "code",
   "execution_count": 7,
   "metadata": {},
   "outputs": [
    {
     "data": {
      "text/plain": [
       "['E', 'B', 'A', 'C', 'D', 'F', 'G']"
      ]
     },
     "execution_count": 7,
     "metadata": {},
     "output_type": "execute_result"
    }
   ],
   "source": [
    "recursive_dfs(Graphe_,'E', path=[])"
   ]
  },
  {
   "cell_type": "code",
   "execution_count": 23,
   "metadata": {},
   "outputs": [
    {
     "name": "stdout",
     "output_type": "stream",
     "text": [
      "E\n",
      "B\n",
      "A\n",
      "C\n",
      "D\n",
      "F\n",
      "G\n"
     ]
    }
   ],
   "source": [
    "s_explore = []\n",
    "dfs_rec (Graphe_, 'E')"
   ]
  },
  {
   "cell_type": "code",
   "execution_count": 13,
   "metadata": {},
   "outputs": [
    {
     "data": {
      "text/plain": [
       "['E', 'B', 'C', 'D', 'F', 'A', 'G']"
      ]
     },
     "execution_count": 13,
     "metadata": {},
     "output_type": "execute_result"
    }
   ],
   "source": [
    "iterative_bfs(Graphe_ ,'E')"
   ]
  },
  {
   "cell_type": "code",
   "execution_count": 27,
   "metadata": {},
   "outputs": [
    {
     "data": {
      "text/plain": [
       "'C'"
      ]
     },
     "execution_count": 27,
     "metadata": {},
     "output_type": "execute_result"
    }
   ],
   "source": [
    " min(Graphe_['A'], key = Graphe_['A'].get)"
   ]
  },
  {
   "cell_type": "code",
   "execution_count": 40,
   "metadata": {},
   "outputs": [
    {
     "data": {
      "text/plain": [
       "{'B': 3, 'C': 3, 'D': 3, 'F': 1}"
      ]
     },
     "execution_count": 40,
     "metadata": {},
     "output_type": "execute_result"
    }
   ],
   "source": [
    "Graphe_.get('E','defaut')"
   ]
  },
  {
   "cell_type": "code",
   "execution_count": 32,
   "metadata": {},
   "outputs": [
    {
     "data": {
      "image/png": "[encoded data removed]",
      "text/plain": [
       "<Figure size 720x360 with 1 Axes>"
      ]
     },
     "metadata": {},
     "output_type": "display_data"
    }
   ],
   "source": [
    "import networkx as nx\n",
    "g = nx.Graph()\n",
    "for i, j in Graphe_.items():\n",
    "    for k in j:\n",
    "        g.add_edge( i,k )\n",
    "import matplotlib.pyplot as plt\n",
    "f, ax = plt.subplots(figsize=(10,5))\n",
    "nx.draw(g, ax = ax, with_labels=True, font_weight='bold')"
   ]
  },
  {
   "cell_type": "code",
   "execution_count": 36,
   "metadata": {},
   "outputs": [],
   "source": [
    "def affiche_peres(pere,depart,extremite,trajet):\n",
    "    \"\"\"\n",
    "    À partir du dictionnaire des pères de chaque sommet on renvoie\n",
    "    la liste des sommets du plus court chemin trouvé. Calcul récursif.\n",
    "    On part de la fin et on remonte vers le départ du chemin.\n",
    "    \n",
    "    \"\"\"\n",
    "    if extremite == depart:\n",
    "        return [depart] + trajet\n",
    "    else:\n",
    "        return (affiche_peres(pere, depart, pere[extremite], [extremite] + trajet))"
   ]
  },
  {
   "cell_type": "code",
   "execution_count": 70,
   "metadata": {},
   "outputs": [],
   "source": [
    "def plus_court(graphe,etape,fin,visites,dist,pere,depart):\n",
    "    \"\"\"\n",
    "    Trouve récursivement la plus courte chaine entre debut et fin avec l'algo de Dijkstra\n",
    "    visites est une liste et dist et pere des dictionnaires \n",
    "    graphe  : le graphe étudié                                                               (dictionnaire)\n",
    "    étape   : le sommet en cours d'étude                                                     (sommet)\n",
    "    fin     : but du trajet                                                                  (sommet)\n",
    "    visites : liste des sommets déjà visités                                                 (liste de sommets)\n",
    "    dist    : dictionnaire meilleure distance actuelle entre départ et les sommets du graphe (dict sommet : int)\n",
    "    pere    : dictionnaire des pères actuels des sommets correspondant aux meilleurs chemins (dict sommet : sommet)\n",
    "    depart  : sommet global de départ                                                        (sommet)\n",
    "    Retourne le couple (longueur mini (int), trajet correspondant (liste sommets)) \n",
    "       \n",
    "    \"\"\"\n",
    "    # si on arrive à la fin, on affiche la distance et les peres\n",
    "    if etape == fin:\n",
    "        return dist[fin], affiche_peres(pere,depart,fin,[])\n",
    "    # si c'est la première visite, c'est que l'étape actuelle est le départ : on met dist[etape] à 0\n",
    "    if  len(visites) == 0 : dist[etape]=0\n",
    "    # on commence à tester les voisins non visités\n",
    "    for voisin in graphe[etape]:\n",
    "        if voisin not in visites:\n",
    "            # la distance est soit la distance calculée précédemment soit l'infini\n",
    "            dist_voisin = dist.get(voisin,float('inf'))\n",
    "            # on calcule la nouvelle distance calculée en passant par l'étape\n",
    "            candidat_dist = dist[etape] + graphe[etape][voisin]\n",
    "            # on effectue les changements si cela donne un chemin plus court\n",
    "            if candidat_dist < dist_voisin:\n",
    "                dist[voisin] = candidat_dist\n",
    "                pere[voisin] = etape\n",
    "    # on a regardé tous les voisins : le noeud entier est visité\n",
    "    visites.append(etape)\n",
    "    # on cherche le sommet *non visité* le plus proche du départ\n",
    "    non_visites = dict((s, dist.get(s,float('inf'))) for s in graphe if s not in visites)\n",
    "    noeud_plus_proche = min(non_visites, key = non_visites.get)\n",
    "    # on applique récursivement en prenant comme nouvelle étape le sommet le plus proche \n",
    "    return plus_court(graphe,noeud_plus_proche,fin,visites,dist,pere,depart)"
   ]
  },
  {
   "cell_type": "code",
   "execution_count": 71,
   "metadata": {},
   "outputs": [],
   "source": [
    "def dij_rec(graphe,debut,fin):\n",
    "    return plus_court(graphe,debut,fin,[],{},{},debut)\n",
    " \n",
    "l,c = dij_rec(Graphe_,'A','F')"
   ]
  },
  {
   "cell_type": "code",
   "execution_count": 58,
   "metadata": {},
   "outputs": [
    {
     "name": "stdout",
     "output_type": "stream",
     "text": [
      "Plus court chemin :  ['A', 'C', 'E']  de longueur : 4\n"
     ]
    }
   ],
   "source": [
    "l,c = dij_rec(Graphe_,'A','E')\n",
    "print ('Plus court chemin : ',c, ' de longueur :',l)"
   ]
  },
  {
   "cell_type": "code",
   "execution_count": null,
   "metadata": {},
   "outputs": [],
   "source": []
  }
 ],
 "metadata": {
  "kernelspec": {
   "display_name": "Python 3",
   "language": "python",
   "name": "python3"
  },
  "language_info": {
   "codemirror_mode": {
    "name": "ipython",
    "version": 3
   },
   "file_extension": ".py",
   "mimetype": "text/x-python",
   "name": "python",
   "nbconvert_exporter": "python",
   "pygments_lexer": "ipython3",
   "version": "3.7.9"
  }
 },
 "nbformat": 4,
 "nbformat_minor": 4
}
